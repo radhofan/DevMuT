{
 "cells": [
  {
   "cell_type": "markdown",
   "metadata": {},
   "source": [
    "# DevMuT Artifact\n",
    "\n",
    "Artifact of the paper \"DevMuT: Testing Deep Learning Framework via Developer\n",
    "Expertise-Based Mutation\" from ASE 2024.\n",
    "\n",
    "To access ChameleonCloud resources, you may need the account to log in to ChameleonCloud. You also need to have a project to allocate resources (e.g., node)."
   ]
  },
  {
   "cell_type": "markdown",
   "metadata": {},
   "source": [
    "### Lease creation\n",
    "\n",
    "We'll create a short lease for one Nvidia Jetson Nano device. Replace project_id with your chameleon cloud project/allocation"
   ]
  },
  {
   "cell_type": "code",
   "execution_count": 12,
   "metadata": {
    "tags": []
   },
   "outputs": [
    {
     "name": "stdout",
     "output_type": "stream",
     "text": [
      "Now using CHI@Edge:\n",
      "URL: https://chi.edge.chameleoncloud.org\n",
      "Location: University of Chicago, Chicago, Illinois, USA\n",
      "Support contact: help@chameleoncloud.org\n",
      "created lease with name radhofanazizi_gmail_com-jetson-nano-2025-03-24 15:06 and uuid 9de51975-1a20-465a-a71a-e556dbd0a0bc, waiting for it to start. This can take up to 60s.\n",
      "Done!\n"
     ]
    }
   ],
   "source": [
    "import chi\n",
    "import os\n",
    "\n",
    "chi.use_site(\"CHI@Edge\")\n",
    "project_id = 'CHI-251412'\n",
    "chi.set(\"project_name\",  project_id)\n",
    "\n",
    "# get your username, just used to name leases something identifiable\n",
    "username = os.environ.get(\"USER\")\n",
    "\n",
    "machine_name = \"jetson-nano\"\n",
    "\n",
    "from chi import lease\n",
    "\n",
    "# get dates for lease start and end\n",
    "start, end = lease.lease_duration(days=1)\n",
    "\n",
    "# make a unique name for the lease\n",
    "lease_name = f\"{username}-{machine_name}-{start}\"\n",
    "\n",
    "reservations = []\n",
    "lease.add_device_reservation(reservations, count=1, machine_name=machine_name)\n",
    "container_lease = lease.create_lease(lease_name, reservations)\n",
    "lease_id = container_lease[\"id\"]\n",
    "\n",
    "print(f\"created lease with name {lease_name} and uuid {lease_id}, waiting for it to start. This can take up to 60s.\")\n",
    "lease.wait_for_active(lease_id)\n",
    "print(\"Done!\")"
   ]
  },
  {
   "cell_type": "markdown",
   "metadata": {},
   "source": [
    "### Container creation\n",
    "\n",
    "Next, we are going to launch a container on our device, ensuring we set the additional `runtime` argument to `nvidia` to make sure that all nvidia compute modules are loaded and the nvidia cuda libraries are mounted onto the container. \n",
    "\n",
    "We will be using an nvidia provided PyTorch for Linux4Tegra image (`nvcr.io/nvidia/l4t-pytorch:r32.7.1-pth1.10-py3`) compatible with the current version of L4T installed on our nvidia jetson devices. PyTorch in itself requires a variety of CUDA libraries that are all mounted onto the container when `runtime=\"nvidia\"` is specified during `container.create_container()` call.\n",
    "\n",
    "***Note***: The container may fail to schedule sometimes due to intermittent failures with devices, this cell is idempotent and can be rerun if needed."
   ]
  },
  {
   "cell_type": "code",
   "execution_count": 13,
   "metadata": {
    "tags": []
   },
   "outputs": [
    {
     "name": "stdout",
     "output_type": "stream",
     "text": [
      "Requesting container ... This may take a while as the container image (800MB) is being downloaded\n",
      "Waiting for container b07db788-6b09-4ed2-9e6a-a80026f74ff1 status to turn to Running. This can take a while depending on the image\n",
      "Successfully created container: tutorial-jetson-nano-nvidia-runtime!\n"
     ]
    }
   ],
   "source": [
    "from chi import container\n",
    "\n",
    "try:\n",
    "    container.destroy_container(f\"tutorial-{machine_name}-nvidia-runtime\".replace(\"_\",\"-\"))\n",
    "except:\n",
    "    pass\n",
    "\n",
    "print(\"Requesting container ... This may take a while as the container image (800MB) is being downloaded\")\n",
    "\n",
    "# set a name for the container. Because CHI@Edge uses Kubernetes, ensure that underscores aren't in the name\n",
    "container_name = f\"tutorial-{machine_name}-nvidia-runtime\".replace(\"_\",\"-\")\n",
    "\n",
    "try:\n",
    "    my_container = container.create_container(\n",
    "        container_name, \n",
    "        image=\"nvcr.io/nvidia/l4t-pytorch:r32.7.1-pth1.10-py3\",\n",
    "        command=[\"/bin/bash\", \"-c\", \"while true; do sleep infinity; done\"],\n",
    "        workdir=\"/home\",\n",
    "        runtime=\"nvidia\",\n",
    "        reservation_id=lease.get_device_reservation(lease_id),\n",
    "        platform_version=2,\n",
    "    )\n",
    "except RuntimeError as ex:\n",
    "    print(ex)\n",
    "    print(f\"please stop and/or delete {container_name} and try again\")\n",
    "else:\n",
    "    print(f\"Successfully created container: {container_name}!\")"
   ]
  },
  {
   "cell_type": "markdown",
   "metadata": {},
   "source": [
    "## Run DevMuT\n",
    "\n",
    "Now, we can finally run DevMuT. First we need to clone the github repo first and then run the reprduce.sh script which contain the instructions from README.md\n",
    "packaged into a bash file"
   ]
  },
  {
   "cell_type": "code",
   "execution_count": 14,
   "metadata": {
    "tags": []
   },
   "outputs": [
    {
     "name": "stdout",
     "output_type": "stream",
     "text": [
      "Cloning into 'DevMuT'...\n",
      "\n"
     ]
    }
   ],
   "source": [
    "print(container.execute(my_container.uuid, \"git clone https://github.com/radhofan/DevMuT.git\")[\"output\"])"
   ]
  },
  {
   "cell_type": "code",
   "execution_count": 24,
   "metadata": {
    "tags": []
   },
   "outputs": [
    {
     "name": "stdout",
     "output_type": "stream",
     "text": [
      "{'output': 'Warning: apt-key output should not be parsed (stdout is not a terminal)\\nExecuting: /tmp/apt-key-gpghome.UG1X2EvDkO/gpg.1.sh --keyserver keyserver.ubuntu.com --recv-keys 16FAAD7AF99A65E2\\ngpg: key A65337CCA8A748B8: \"Kitware Apt Archive Automatic Signing Key (2025) <debian@kitware.com>\" not changed\\ngpg: Total number processed: 1\\ngpg:              unchanged: 1\\n', 'exit_code': 0, 'exec_id': None, 'proxy_url': None}\n",
      "Hit:1 https://apt.kitware.com/ubuntu bionic InRelease\n",
      "Hit:2 http://ports.ubuntu.com/ubuntu-ports bionic InRelease\n",
      "Hit:3 http://ports.ubuntu.com/ubuntu-ports bionic-updates InRelease\n",
      "Hit:4 http://ports.ubuntu.com/ubuntu-ports bionic-backports InRelease\n",
      "Hit:5 http://ports.ubuntu.com/ubuntu-ports bionic-security InRelease\n",
      "Reading package lists...\n"
     ]
    }
   ],
   "source": [
    "print(container.execute(my_container.uuid, \"apt-key adv --keyserver keyserver.ubuntu.com --recv-keys 16FAAD7AF99A65E2\"))\n",
    "print(container.execute(my_container.uuid, \"bash -c 'apt-get update && apt-get install -y curl'\")[\"output\"])"
   ]
  },
  {
   "cell_type": "code",
   "execution_count": 68,
   "metadata": {
    "tags": []
   },
   "outputs": [
    {
     "name": "stdout",
     "output_type": "stream",
     "text": [
      "\n",
      "\n",
      "ERROR: File or directory already exists: '/root/miniconda'\n",
      "If you want to update an existing installation, use the -u option.\n",
      "DevMuT/reproduce.sh: line 12: conda: command not found\n",
      "DevMuT/reproduce.sh: line 13: mamba: command not found\n",
      "DevMuT/reproduce.sh: line 15: mamba: command not found\n",
      "DevMuT/reproduce.sh: line 18: mamba: command not found\n",
      "DevMuT/reproduce.sh: line 19: mamba: command not found\n",
      "DevMuT/reproduce.sh: line 20: pip: command not found\n",
      "DevMuT/reproduce.sh: line 21: pip: command not found\n",
      "\n"
     ]
    }
   ],
   "source": [
    "print(container.execute(my_container.uuid, \"bash -c 'chmod +x DevMuT/reproduce.sh'\")[\"output\"])\n",
    "print(container.execute(my_container.uuid, \"bash -c 'DevMuT/reproduce.sh > reproduce_output.log 2>&1'\")[\"output\"])\n",
    "print(container.execute(my_container.uuid, \"bash -c 'cat reproduce_output.log'\")[\"output\"])"
   ]
  },
  {
   "cell_type": "code",
   "execution_count": 65,
   "metadata": {
    "tags": []
   },
   "outputs": [
    {
     "name": "stdout",
     "output_type": "stream",
     "text": [
      "Traceback (most recent call last):\n",
      "  File \"DevMuT/code/DevMuT/mutation_test.py\", line 3, in <module>\n",
      "    import yaml\n",
      "ModuleNotFoundError: No module named 'yaml'\n",
      "\n"
     ]
    }
   ],
   "source": [
    "print(container.execute(my_container.uuid, \"python3 DevMuT/code/DevMuT/mutation_test.py\")[\"output\"])"
   ]
  },
  {
   "cell_type": "code",
   "execution_count": 66,
   "metadata": {
    "tags": []
   },
   "outputs": [
    {
     "name": "stdout",
     "output_type": "stream",
     "text": [
      "total 92\n",
      "-rw-r--r-- 1 root root     0 Mar 24 15:08 __init__.py\n",
      "drwxr-xr-x 2 root root  4096 Mar 24 15:08 __pycache__\n",
      "-rw-r--r-- 1 root root  8694 Mar 24 15:08 analyzelog_util.py\n",
      "-rw-r--r-- 1 root root 17952 Mar 24 15:08 dataset_utils.py\n",
      "-rw-r--r-- 1 root root 11108 Mar 24 15:08 help_utils.py\n",
      "-rw-r--r-- 1 root root  1462 Mar 24 15:08 log_recoder.py\n",
      "-rw-r--r-- 1 root root  5742 Mar 24 15:08 loss_utils.py\n",
      "-rw-r--r-- 1 root root   585 Mar 24 15:08 model_train.py\n",
      "-rw-r--r-- 1 root root 14016 Mar 24 15:08 model_utils.py\n",
      "drwxr-xr-x 3 root root  4096 Mar 24 15:08 mutation_ms\n",
      "drwxr-xr-x 3 root root  4096 Mar 24 15:08 mutation_torch\n",
      "-rw-r--r-- 1 root root   383 Mar 24 15:08 opt_utils.py\n",
      "\n"
     ]
    }
   ],
   "source": [
    "print(container.execute(my_container.uuid, \"ls -l DevMuT/code/DevMuT/common\")[\"output\"])"
   ]
  },
  {
   "cell_type": "code",
   "execution_count": 69,
   "metadata": {
    "tags": []
   },
   "outputs": [
    {
     "ename": "AttributeError",
     "evalue": "'dict' object has no attribute 'delete'",
     "output_type": "error",
     "traceback": [
      "\u001b[0;31m---------------------------------------------------------------------------\u001b[0m",
      "\u001b[0;31mAttributeError\u001b[0m                            Traceback (most recent call last)",
      "\u001b[0;32m/tmp/ipykernel_129/567843966.py\u001b[0m in \u001b[0;36m<cell line: 2>\u001b[0;34m()\u001b[0m\n\u001b[1;32m      1\u001b[0m \u001b[0mcontainer\u001b[0m\u001b[0;34m.\u001b[0m\u001b[0mdestroy_container\u001b[0m\u001b[0;34m(\u001b[0m\u001b[0mmy_container\u001b[0m\u001b[0;34m.\u001b[0m\u001b[0muuid\u001b[0m\u001b[0;34m)\u001b[0m\u001b[0;34m\u001b[0m\u001b[0;34m\u001b[0m\u001b[0m\n\u001b[0;32m----> 2\u001b[0;31m \u001b[0mlease\u001b[0m\u001b[0;34m.\u001b[0m\u001b[0mdelete_lease\u001b[0m\u001b[0;34m(\u001b[0m\u001b[0mlease_id\u001b[0m\u001b[0;34m)\u001b[0m\u001b[0;34m\u001b[0m\u001b[0;34m\u001b[0m\u001b[0m\n\u001b[0m",
      "\u001b[0;32m/opt/conda/lib/python3.10/site-packages/chi/lease.py\u001b[0m in \u001b[0;36mdelete_lease\u001b[0;34m(ref)\u001b[0m\n\u001b[1;32m   1131\u001b[0m     \"\"\"\n\u001b[1;32m   1132\u001b[0m     \u001b[0mlease\u001b[0m \u001b[0;34m=\u001b[0m \u001b[0mget_lease\u001b[0m\u001b[0;34m(\u001b[0m\u001b[0mref\u001b[0m\u001b[0;34m)\u001b[0m\u001b[0;34m\u001b[0m\u001b[0;34m\u001b[0m\u001b[0m\n\u001b[0;32m-> 1133\u001b[0;31m     \u001b[0mlease\u001b[0m\u001b[0;34m.\u001b[0m\u001b[0mdelete\u001b[0m\u001b[0;34m(\u001b[0m\u001b[0;34m)\u001b[0m\u001b[0;34m\u001b[0m\u001b[0;34m\u001b[0m\u001b[0m\n\u001b[0m\u001b[1;32m   1134\u001b[0m     \u001b[0mprint\u001b[0m\u001b[0;34m(\u001b[0m\u001b[0;34mf\"Deleted lease {ref}\"\u001b[0m\u001b[0;34m)\u001b[0m\u001b[0;34m\u001b[0m\u001b[0;34m\u001b[0m\u001b[0m\n\u001b[1;32m   1135\u001b[0m \u001b[0;34m\u001b[0m\u001b[0m\n",
      "\u001b[0;31mAttributeError\u001b[0m: 'dict' object has no attribute 'delete'"
     ]
    }
   ],
   "source": [
    "container.destroy_container(my_container.uuid)\n",
    "lease.delete_lease(lease_id)"
   ]
  }
 ],
 "metadata": {
  "kernelspec": {
   "display_name": "Python 3 (ipykernel)",
   "language": "python",
   "name": "python3"
  },
  "language_info": {
   "codemirror_mode": {
    "name": "ipython",
    "version": 3
   },
   "file_extension": ".py",
   "mimetype": "text/x-python",
   "name": "python",
   "nbconvert_exporter": "python",
   "pygments_lexer": "ipython3",
   "version": "3.10.9"
  }
 },
 "nbformat": 4,
 "nbformat_minor": 4
}
