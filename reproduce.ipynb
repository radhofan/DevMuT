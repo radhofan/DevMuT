{
 "cells": [
  {
   "cell_type": "markdown",
   "metadata": {},
   "source": [
    "# DevMuT Artifact\n",
    "\n",
    "Artifact of the paper \"DevMuT: Testing Deep Learning Framework via Developer\n",
    "Expertise-Based Mutation\" from ASE 2024.\n",
    "\n",
    "To access ChameleonCloud resources, you may need the account to log in to ChameleonCloud. You also need to have a project to allocate resources (e.g., node)."
   ]
  },
  {
   "cell_type": "markdown",
   "metadata": {},
   "source": [
    "### Lease creation\n",
    "\n",
    "We'll create a short lease for one Nvidia Jetson Nano device."
   ]
  },
  {
   "cell_type": "code",
   "execution_count": null,
   "metadata": {},
   "outputs": [],
   "source": [
    "import chi\n",
    "import os\n",
    "\n",
    "chi.use_site(\"CHI@Edge\")\n",
    "chi.set(\"DevMuT_artifact\", CHI-251412)\n",
    "\n",
    "# get your username, just used to name leases something identifiable\n",
    "username = os.environ.get(\"USER\")\n",
    "\n",
    "machine_name = \"jetson-nano\"\n",
    "\n",
    "from chi import lease\n",
    "\n",
    "# get dates for lease start and end\n",
    "start, end = lease.lease_duration(days=1)\n",
    "\n",
    "# make a unique name for the lease\n",
    "lease_name = f\"{username}-{machine_name}-{start}\"\n",
    "\n",
    "reservations = []\n",
    "lease.add_device_reservation(reservations, count=1, machine_name=machine_name)\n",
    "container_lease = lease.create_lease(lease_name, reservations)\n",
    "lease_id = container_lease[\"id\"]\n",
    "\n",
    "print(f\"created lease with name {lease_name} and uuid {lease_id}, waiting for it to start. This can take up to 60s.\")\n",
    "lease.wait_for_active(lease_id)\n",
    "print(\"Done!\")"
   ]
  },
  {
   "cell_type": "markdown",
   "metadata": {},
   "source": [
    "### Container creation\n",
    "\n",
    "Next, we are going to launch a container on our device, ensuring we set the additional `runtime` argument to `nvidia` to make sure that all nvidia compute modules are loaded and the nvidia cuda libraries are mounted onto the container. \n",
    "\n",
    "We will be using an nvidia provided PyTorch for Linux4Tegra image (`nvcr.io/nvidia/l4t-pytorch:r32.7.1-pth1.10-py3`) compatible with the current version of L4T installed on our nvidia jetson devices. PyTorch in itself requires a variety of CUDA libraries that are all mounted onto the container when `runtime=\"nvidia\"` is specified during `container.create_container()` call.\n",
    "\n",
    "***Note***: The container may fail to schedule sometimes due to intermittent failures with devices, this cell is idempotent and can be rerun if needed."
   ]
  },
  {
   "cell_type": "code",
   "execution_count": null,
   "metadata": {},
   "outputs": [],
   "source": [
    "from chi import container\n",
    "\n",
    "try:\n",
    "    container.destroy_container(f\"tutorial-{machine_name}-nvidia-runtime\".replace(\"_\",\"-\"))\n",
    "except:\n",
    "    pass\n",
    "\n",
    "print(\"Requesting container ... This may take a while as the container image (800MB) is being downloaded\")\n",
    "\n",
    "# set a name for the container. Because CHI@Edge uses Kubernetes, ensure that underscores aren't in the name\n",
    "container_name = f\"tutorial-{machine_name}-nvidia-runtime\".replace(\"_\",\"-\")\n",
    "\n",
    "try:\n",
    "    my_container = container.create_container(\n",
    "        container_name, \n",
    "        image=\"nvcr.io/nvidia/l4t-pytorch:r32.7.1-pth1.10-py3\",\n",
    "        command=[\"/bin/bash\", \"-c\", \"while true; do sleep infinity; done\"],\n",
    "        workdir=\"/home\",\n",
    "        runtime=\"nvidia\",\n",
    "        reservation_id=lease.get_device_reservation(lease_id),\n",
    "        platform_version=2,\n",
    "    )\n",
    "except RuntimeError as ex:\n",
    "    print(ex)\n",
    "    print(f\"please stop and/or delete {container_name} and try again\")\n",
    "else:\n",
    "    print(f\"Successfully created container: {container_name}!\")"
   ]
  },
  {
   "cell_type": "markdown",
   "metadata": {},
   "source": [
    "## Run DevMuT\n",
    "\n",
    "Now, we can finally run DevMuT. First we need to clone the github repo first and then run the reprduce.sh script which contain the instructions from README.md\n",
    "packaged into a bash file"
   ]
  },
  {
   "cell_type": "code",
   "execution_count": null,
   "metadata": {
    "tags": []
   },
   "outputs": [],
   "source": [
    "# my_server.execute(\"git clone https://github.com/radhofan/DevMuT.git\")\n",
    "# container.upload(my_container.uuid, \"simple_nn.py\", \"/home\")\n",
    "# print(container.execute(my_container.uuid, \"ls -l /home\")[\"output\"])\n",
    "print(container.execute(my_container.uuid, \"git clone https://github.com/radhofan/DevMuT.git\")[\"output\"])"
   ]
  },
  {
   "cell_type": "code",
   "execution_count": null,
   "metadata": {
    "tags": []
   },
   "outputs": [],
   "source": [
    "# my_server.execute(\"chmod +x DevMuT/reproduce.sh\")\n",
    "# my_server.execute(\"bash DevMuT/reproduce.sh\")\n",
    "print(container.execute(my_container.uuid, \"bash DevMuT/reproduce.sh\")[\"output\"])"
   ]
  },
  {
   "cell_type": "code",
   "execution_count": null,
   "metadata": {},
   "outputs": [],
   "source": [
    "container.destroy_container(my_container.uuid)\n",
    "lease.delete_lease(lease_id)"
   ]
  }
 ],
 "metadata": {
  "kernelspec": {
   "display_name": "Python 3 (ipykernel)",
   "language": "python",
   "name": "python3"
  },
  "language_info": {
   "codemirror_mode": {
    "name": "ipython",
    "version": 3
   },
   "file_extension": ".py",
   "mimetype": "text/x-python",
   "name": "python",
   "nbconvert_exporter": "python",
   "pygments_lexer": "ipython3",
   "version": "3.10.9"
  }
 },
 "nbformat": 4,
 "nbformat_minor": 4
}
